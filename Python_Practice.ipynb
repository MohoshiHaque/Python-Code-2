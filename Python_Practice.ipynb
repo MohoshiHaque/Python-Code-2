{
  "nbformat": 4,
  "nbformat_minor": 0,
  "metadata": {
    "colab": {
      "name": "Python Practice.ipynb",
      "provenance": [],
      "collapsed_sections": []
    },
    "kernelspec": {
      "name": "python3",
      "display_name": "Python 3"
    }
  },
  "cells": [
    {
      "cell_type": "code",
      "metadata": {
        "id": "IN8KSH1gzOk0",
        "colab_type": "code",
        "outputId": "cf57bd9b-c068-42ed-e0e2-4a3cc34a4bed",
        "colab": {
          "base_uri": "https://localhost:8080/",
          "height": 34
        }
      },
      "source": [
        "print('Bismillahir Rahmanir Rahim')"
      ],
      "execution_count": 0,
      "outputs": [
        {
          "output_type": "stream",
          "text": [
            "Bismillahir Rahmanir Rahim\n"
          ],
          "name": "stdout"
        }
      ]
    },
    {
      "cell_type": "code",
      "metadata": {
        "id": "aCpR6Eia1Fxc",
        "colab_type": "code",
        "outputId": "507fd0a1-dbc1-4900-cd59-f7f5db8ef2f5",
        "colab": {
          "base_uri": "https://localhost:8080/",
          "height": 102
        }
      },
      "source": [
        "for i in range(5):\n",
        "    x=i*10;\n",
        "    print(x)"
      ],
      "execution_count": 0,
      "outputs": [
        {
          "output_type": "stream",
          "text": [
            "0\n",
            "10\n",
            "20\n",
            "30\n",
            "40\n"
          ],
          "name": "stdout"
        }
      ]
    },
    {
      "cell_type": "code",
      "metadata": {
        "id": "xNz7iyrq4pRf",
        "colab_type": "code",
        "outputId": "4bc443c4-cca4-4e6e-cf41-f8a485b1ade5",
        "colab": {
          "base_uri": "https://localhost:8080/",
          "height": 374
        }
      },
      "source": [
        "import this"
      ],
      "execution_count": 0,
      "outputs": [
        {
          "output_type": "stream",
          "text": [
            "The Zen of Python, by Tim Peters\n",
            "\n",
            "Beautiful is better than ugly.\n",
            "Explicit is better than implicit.\n",
            "Simple is better than complex.\n",
            "Complex is better than complicated.\n",
            "Flat is better than nested.\n",
            "Sparse is better than dense.\n",
            "Readability counts.\n",
            "Special cases aren't special enough to break the rules.\n",
            "Although practicality beats purity.\n",
            "Errors should never pass silently.\n",
            "Unless explicitly silenced.\n",
            "In the face of ambiguity, refuse the temptation to guess.\n",
            "There should be one-- and preferably only one --obvious way to do it.\n",
            "Although that way may not be obvious at first unless you're Dutch.\n",
            "Now is better than never.\n",
            "Although never is often better than *right* now.\n",
            "If the implementation is hard to explain, it's a bad idea.\n",
            "If the implementation is easy to explain, it may be a good idea.\n",
            "Namespaces are one honking great idea -- let's do more of those!\n"
          ],
          "name": "stdout"
        }
      ]
    },
    {
      "cell_type": "code",
      "metadata": {
        "id": "XLdPG12h7B52",
        "colab_type": "code",
        "outputId": "d688853c-3eaf-422e-b10e-396670fe81ef",
        "colab": {
          "base_uri": "https://localhost:8080/",
          "height": 34
        }
      },
      "source": [
        "import math\n",
        "math.factorial(16)"
      ],
      "execution_count": 0,
      "outputs": [
        {
          "output_type": "execute_result",
          "data": {
            "text/plain": [
              "20922789888000"
            ]
          },
          "metadata": {
            "tags": []
          },
          "execution_count": 9
        }
      ]
    },
    {
      "cell_type": "code",
      "metadata": {
        "id": "uysRy1hn8eZW",
        "colab_type": "code",
        "outputId": "03552653-09b9-4708-ed62-47fdc3d3e02c",
        "colab": {
          "base_uri": "https://localhost:8080/",
          "height": 34
        }
      },
      "source": [
        "//Library system use \n",
        "from math import factorial\n",
        "n=5\n",
        "k=3\n",
        "factorial(n)/(factorial(k)*factorial(n-k))"
      ],
      "execution_count": 0,
      "outputs": [
        {
          "output_type": "execute_result",
          "data": {
            "text/plain": [
              "10.0"
            ]
          },
          "metadata": {
            "tags": []
          },
          "execution_count": 10
        }
      ]
    },
    {
      "cell_type": "code",
      "metadata": {
        "id": "oy7p-sCMCdrE",
        "colab_type": "code",
        "outputId": "1ad790ca-c2ee-4abe-c0b2-23152335930a",
        "colab": {
          "base_uri": "https://localhost:8080/",
          "height": 34
        }
      },
      "source": [
        "from math import factorial as fac\n",
        "n=5\n",
        "k=3\n",
        "fac(n)/fac(k)*fac(n-k)"
      ],
      "execution_count": 0,
      "outputs": [
        {
          "output_type": "execute_result",
          "data": {
            "text/plain": [
              "40.0"
            ]
          },
          "metadata": {
            "tags": []
          },
          "execution_count": 11
        }
      ]
    },
    {
      "cell_type": "code",
      "metadata": {
        "id": "eyBypODfJ5-C",
        "colab_type": "code",
        "outputId": "b7191a6e-ea1d-4ee7-ef4f-c3615271db65",
        "colab": {
          "base_uri": "https://localhost:8080/",
          "height": 34
        }
      },
      "source": [
        "from math import factorial\n",
        "n=5\n",
        "k=3\n",
        "fac(n)//fac(k)*fac(n-k)"
      ],
      "execution_count": 0,
      "outputs": [
        {
          "output_type": "execute_result",
          "data": {
            "text/plain": [
              "40"
            ]
          },
          "metadata": {
            "tags": []
          },
          "execution_count": 13
        }
      ]
    },
    {
      "cell_type": "code",
      "metadata": {
        "id": "IcrNf7OmPgvK",
        "colab_type": "code",
        "outputId": "6e19c3e2-e55d-4497-8346-85c26e74a600",
        "colab": {
          "base_uri": "https://localhost:8080/",
          "height": 34
        }
      },
      "source": [
        "bool(\"\")\n",
        "bool(0)"
      ],
      "execution_count": 0,
      "outputs": [
        {
          "output_type": "execute_result",
          "data": {
            "text/plain": [
              "False"
            ]
          },
          "metadata": {
            "tags": []
          },
          "execution_count": 23
        }
      ]
    },
    {
      "cell_type": "code",
      "metadata": {
        "id": "84OMpQ_EP7KU",
        "colab_type": "code",
        "outputId": "77e4b5ed-d130-49e4-f249-e89c5ac3b49b",
        "colab": {
          "base_uri": "https://localhost:8080/",
          "height": 34
        }
      },
      "source": [
        "adrita=20\n",
        "adrita==20\n",
        "adrita==30"
      ],
      "execution_count": 0,
      "outputs": [
        {
          "output_type": "execute_result",
          "data": {
            "text/plain": [
              "False"
            ]
          },
          "metadata": {
            "tags": []
          },
          "execution_count": 17
        }
      ]
    },
    {
      "cell_type": "code",
      "metadata": {
        "id": "Gr_DLc5QUdPx",
        "colab_type": "code",
        "outputId": "79316477-48ce-429b-c4de-adc0cb30b512",
        "colab": {
          "base_uri": "https://localhost:8080/",
          "height": 102
        }
      },
      "source": [
        "c=5\n",
        "while c != 0:\n",
        "    print(c)\n",
        "    c -= 1"
      ],
      "execution_count": 0,
      "outputs": [
        {
          "output_type": "stream",
          "text": [
            "5\n",
            "4\n",
            "3\n",
            "2\n",
            "1\n"
          ],
          "name": "stdout"
        }
      ]
    },
    {
      "cell_type": "code",
      "metadata": {
        "id": "3QoPfq_OoF7j",
        "colab_type": "code",
        "outputId": "48b5f016-bbd5-4d71-8f44-6468da64c4b9",
        "colab": {
          "base_uri": "https://localhost:8080/",
          "height": 34
        }
      },
      "source": [
        "s=\"Adrita\"\n",
        "s[4]\n",
        "type(s[4])"
      ],
      "execution_count": 0,
      "outputs": [
        {
          "output_type": "execute_result",
          "data": {
            "text/plain": [
              "str"
            ]
          },
          "metadata": {
            "tags": []
          },
          "execution_count": 33
        }
      ]
    },
    {
      "cell_type": "code",
      "metadata": {
        "id": "9ZPdXA6kooNW",
        "colab_type": "code",
        "colab": {}
      },
      "source": [
        "help(str)"
      ],
      "execution_count": 0,
      "outputs": []
    },
    {
      "cell_type": "code",
      "metadata": {
        "id": "4ke_IpIns4pZ",
        "colab_type": "code",
        "outputId": "e4dc7ebf-db1d-4791-e267-710eba166060",
        "colab": {
          "base_uri": "https://localhost:8080/",
          "height": 136
        }
      },
      "source": [
        "#String slice\n",
        "x=\"Adrita Zahin\"\n",
        "print(x[2:5])\n",
        "#negative slice\n",
        "print(x[-5:-2])\n",
        "#String Length\n",
        "print(len(x))\n",
        "#Strip\n",
        "print(x.strip())\n",
        "#lower \n",
        "print(x.lower())\n",
        "#Upper\n",
        "print(x.upper())\n",
        "#check\n",
        "txt=(\"He is a good man\")\n",
        "x=\"good\" in txt\n",
        "print(x)"
      ],
      "execution_count": 0,
      "outputs": [
        {
          "output_type": "stream",
          "text": [
            "rit\n",
            "Zah\n",
            "12\n",
            "Adrita Zahin\n",
            "adrita zahin\n",
            "ADRITA ZAHIN\n",
            "True\n"
          ],
          "name": "stdout"
        }
      ]
    },
    {
      "cell_type": "code",
      "metadata": {
        "id": "BlAwyuwV-Iyn",
        "colab_type": "code",
        "outputId": "83de84dd-f9b1-4b10-93a2-6a5fea552f96",
        "colab": {
          "base_uri": "https://localhost:8080/",
          "height": 34
        }
      },
      "source": [
        "#Byte process\n",
        "norsk='My company name is Thrust Robotics School'\n",
        "data=norsk.encode('utf8')\n",
        "data"
      ],
      "execution_count": 0,
      "outputs": [
        {
          "output_type": "execute_result",
          "data": {
            "text/plain": [
              "b'My company name is Thrust Robotics School'"
            ]
          },
          "metadata": {
            "tags": []
          },
          "execution_count": 59
        }
      ]
    },
    {
      "cell_type": "code",
      "metadata": {
        "id": "tW2d3kBOCbJu",
        "colab_type": "code",
        "outputId": "26ef36f2-700b-4ca4-9c49-1f08c602be2e",
        "colab": {
          "base_uri": "https://localhost:8080/",
          "height": 153
        }
      },
      "source": [
        "#LIst\n",
        "a=[\"Apple\",\"Banana\",\"Cat\",\"Adrita\",\"Mohoshi\",\"Momen\",\"Rizvi\"]\n",
        "print(a[1])\n",
        "print(a[2:4])\n",
        "#append\n",
        "a.append(\"Horse\")\n",
        "print(a)\n",
        "#Reverse\n",
        "a.reverse()\n",
        "print(a)\n",
        "#Sorting default acendening\n",
        "a.sort()\n",
        "print(a)\n",
        "#Pop method\n",
        "a.pop(2)\n",
        "print(a)\n",
        "#Extend\n",
        "x=[\"Nayeem\",\"Shibli\",\"Kalpoma\"]\n",
        "a.extend(x)\n",
        "print(a)\n",
        "#Count\n",
        "num=a.count(\"Momen\")\n",
        "print(num)\n"
      ],
      "execution_count": 0,
      "outputs": [
        {
          "output_type": "stream",
          "text": [
            "Banana\n",
            "['Cat', 'Adrita']\n",
            "['Apple', 'Banana', 'Cat', 'Adrita', 'Mohoshi', 'Momen', 'Rizvi', 'Horse']\n",
            "['Horse', 'Rizvi', 'Momen', 'Mohoshi', 'Adrita', 'Cat', 'Banana', 'Apple']\n",
            "['Adrita', 'Apple', 'Banana', 'Cat', 'Horse', 'Mohoshi', 'Momen', 'Rizvi']\n",
            "['Adrita', 'Apple', 'Cat', 'Horse', 'Mohoshi', 'Momen', 'Rizvi']\n",
            "['Adrita', 'Apple', 'Cat', 'Horse', 'Mohoshi', 'Momen', 'Rizvi', 'Nayeem', 'Shibli', 'Kalpoma']\n",
            "1\n"
          ],
          "name": "stdout"
        }
      ]
    },
    {
      "cell_type": "code",
      "metadata": {
        "id": "LstbM6Psx3_R",
        "colab_type": "code",
        "outputId": "674700de-d42c-4123-bdd7-eff6105f0d64",
        "colab": {
          "base_uri": "https://localhost:8080/",
          "height": 153
        }
      },
      "source": [
        "#Dictionary\n",
        "car={\"Brand\":\"BMW\",\n",
        "     \"Model\":\"Mustang\",\n",
        "     \"Year\":1996,\n",
        "     \"Country\":\"Bangladesh\"}\n",
        "#cOPY\n",
        "x=car.copy()\n",
        "print(x)\n",
        "#Fromkey\n",
        "x=(\"Key1\",\"key2\",\"key3\")\n",
        "y=0\n",
        "thisdic=dict.fromkeys(x,y)\n",
        "print(thisdic)\n",
        "#Get method\n",
        "x=car.get(\"Model\")\n",
        "print(x)\n",
        "#Pop\n",
        "car.pop(\"Model\")\n",
        "print()\n",
        "#Items\n",
        "x=car.items()\n",
        "print(x)\n",
        "#PopItem\n",
        "car.popitem()\n",
        "print(car)\n",
        "#Update\n",
        "car.update({\"color\":\"White\"})\n",
        "print(car)\n",
        "#Value\n",
        "x=car.values()\n",
        "print(x)"
      ],
      "execution_count": 0,
      "outputs": [
        {
          "output_type": "stream",
          "text": [
            "{'Brand': 'BMW', 'Model': 'Mustang', 'Year': 1996, 'Country': 'Bangladesh'}\n",
            "{'Key1': 0, 'key2': 0, 'key3': 0}\n",
            "Mustang\n",
            "\n",
            "dict_items([('Brand', 'BMW'), ('Year', 1996), ('Country', 'Bangladesh')])\n",
            "{'Brand': 'BMW', 'Year': 1996}\n",
            "{'Brand': 'BMW', 'Year': 1996, 'color': 'White'}\n",
            "dict_values(['BMW', 1996, 'White'])\n"
          ],
          "name": "stdout"
        }
      ]
    }
  ]
}